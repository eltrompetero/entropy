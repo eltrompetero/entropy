{
 "cells": [
  {
   "cell_type": "code",
   "execution_count": 2,
   "metadata": {
    "collapsed": false
   },
   "outputs": [
    {
     "name": "stdout",
     "output_type": "stream",
     "text": [
      "Populating the interactive namespace from numpy and matplotlib\n"
     ]
    }
   ],
   "source": [
    "%pylab inline"
   ]
  },
  {
   "cell_type": "code",
   "execution_count": 569,
   "metadata": {
    "collapsed": false
   },
   "outputs": [],
   "source": [
    "from entropy import *\n",
    "from Bottleneck import Bottleneck\n",
    "\n",
    "rng = np.random.RandomState(1)"
   ]
  },
  {
   "cell_type": "code",
   "execution_count": 570,
   "metadata": {
    "collapsed": true
   },
   "outputs": [],
   "source": [
    "N = 3  # number of spins\n",
    "Nc = 2  # number of clusters\n",
    "K = 100  # data points"
   ]
  },
  {
   "cell_type": "markdown",
   "metadata": {},
   "source": [
    "Take votes to be completely random except that 2 and 3 vote exactly the same.\n",
    "\n",
    "Take final vote to be the sign of the majority vote."
   ]
  },
  {
   "cell_type": "code",
   "execution_count": 571,
   "metadata": {
    "collapsed": false
   },
   "outputs": [],
   "source": [
    "# Random votes.\n",
    "v = rng.choice([-1.,1.],size=(K,N))\n",
    "# majVote = logical_xor( sign(v[:,:2].sum(1))==-1, v[:,-1]==-1 )*2-1\n",
    "v[:,-1] = v[:,1]  # make voter 3 the duplicate of voter 2\n",
    "\n",
    "majVote = sign( v.sum(1) )\n",
    "\n",
    "# P({s_i}), all observed individual voting configurations\n",
    "PofSi = bincount(unique_rows(v,return_inverse=True))\n",
    "PofSi = PofSi/PofSi.sum()\n",
    "\n",
    "# Unique {s_i}\n",
    "uniqueSi = v[unique_rows(v)]\n",
    "uniqueSi[:,-1] = uniqueSi[:,1]\n",
    "\n",
    "# Majority votes corresponding to unique {s_i}\n",
    "totalVote = sign(uniqueSi.sum(1))"
   ]
  },
  {
   "cell_type": "code",
   "execution_count": 573,
   "metadata": {
    "collapsed": false
   },
   "outputs": [],
   "source": [
    "# Run minimization routine.\n",
    "bottleSolver = Bottleneck(N,Nc)\n",
    "bottleSolver.rng = np.random.RandomState(1)\n",
    "bottleSolver.setup(PofSi,uniqueSi)"
   ]
  },
  {
   "cell_type": "code",
   "execution_count": 574,
   "metadata": {
    "collapsed": false,
    "scrolled": false
   },
   "outputs": [
    {
     "name": "stdout",
     "output_type": "stream",
     "text": [
      "[[  1.0000e+00   5.6959e-09   5.2502e-10]\n",
      " [  8.9708e-10   1.0000e+00   1.0000e+00]]\n",
      "[[  1.0000e+00   5.4603e-11   7.9092e-09]\n",
      " [  1.6272e-10   1.0000e+00   1.0000e+00]]\n",
      "[[  1.0000e+00   1.1745e-09   8.3629e-10]\n",
      " [  2.0716e-11   1.0000e+00   1.0000e+00]]\n",
      "1 loops, best of 3: 203 ms per loop\n",
      "Optimization terminated successfully.\n",
      "0.999711556561\n",
      "1.99942293591 0.999711379348\n"
     ]
    }
   ],
   "source": [
    "# Run solver and print success message.\n",
    "%timeit -n1 -r3 print bottleSolver.solve(method='powell')\n",
    "print bottleSolver.soln['message']\n",
    "print bottleSolver.soln['fun']\n",
    "\n",
    "# Show individual bottle and accuracy terms from the cost function we are minimizing.\n",
    "# The accuracy should be as close as possible to the entropy of the final output, or 2 bits.\n",
    "print bottleSolver.bottleneck, bottleSolver.accuracy"
   ]
  },
  {
   "cell_type": "code",
   "execution_count": 566,
   "metadata": {
    "collapsed": false,
    "scrolled": false
   },
   "outputs": [
    {
     "name": "stdout",
     "output_type": "stream",
     "text": [
      "[[  1.0000e+00   5.6959e-09   5.2502e-10]\n",
      " [  8.9708e-10   1.0000e+00   1.0000e+00]]\n",
      "[[  1.0000e+00   5.4603e-11   7.9092e-09]\n",
      " [  1.6272e-10   1.0000e+00   1.0000e+00]]\n",
      "[[  1.0000e+00   1.1745e-09   8.3629e-10]\n",
      " [  2.0716e-11   1.0000e+00   1.0000e+00]]\n",
      "1 loops, best of 3: 201 ms per loop\n",
      "Optimization terminated successfully.\n",
      "0.999711556561\n",
      "1.99942293591 0.999711379348\n"
     ]
    }
   ],
   "source": [
    "# Run solver and print success message.\n",
    "%timeit -n1 -r3 print bottleSolver.solve(method='powell')\n",
    "print bottleSolver.soln['message']\n",
    "print bottleSolver.soln['fun']\n",
    "\n",
    "# Show individual bottle and accuracy terms from the cost function we are minimizing.\n",
    "# The accuracy should be as close as possible to the entropy of the final output, or 2 bits.\n",
    "print bottleSolver.bottleneck, bottleSolver.accuracy"
   ]
  },
  {
   "cell_type": "code",
   "execution_count": 577,
   "metadata": {
    "collapsed": false
   },
   "outputs": [
    {
     "data": {
      "text/plain": [
       "<matplotlib.colorbar.Colorbar at 0x7f8d7ecdb8d0>"
      ]
     },
     "execution_count": 577,
     "metadata": {},
     "output_type": "execute_result"
    },
    {
     "data": {
      "image/png": "[encoded data removed]",
      "text/plain": [
       "<matplotlib.figure.Figure at 0x7f8d7f1e36d0>"
      ]
     },
     "metadata": {},
     "output_type": "display_data"
    }
   ],
   "source": [
    "plt.matshow( bottleSolver.clusterAssignP,cmap=plt.cm.Greys,vmin=0,vmax=1 )\n",
    "plt.colorbar()"
   ]
  },
  {
   "cell_type": "code",
   "execution_count": null,
   "metadata": {
    "collapsed": true
   },
   "outputs": [],
   "source": []
  },
  {
   "cell_type": "code",
   "execution_count": 578,
   "metadata": {
    "collapsed": false
   },
   "outputs": [
    {
     "ename": "IndexError",
     "evalue": "invalid index to scalar variable.",
     "output_type": "error",
     "traceback": [
      "\u001b[1;31m---------------------------------------------------------------------------\u001b[0m",
      "\u001b[1;31mIndexError\u001b[0m                                Traceback (most recent call last)",
      "\u001b[1;32m<ipython-input-578-ffdbb4e6c8aa>\u001b[0m in \u001b[0;36m<module>\u001b[1;34m()\u001b[0m\n\u001b[0;32m      4\u001b[0m     \u001b[0mdp\u001b[0m \u001b[1;33m=\u001b[0m \u001b[0mones\u001b[0m\u001b[1;33m(\u001b[0m\u001b[1;33m(\u001b[0m\u001b[1;36m4\u001b[0m\u001b[1;33m)\u001b[0m\u001b[1;33m)\u001b[0m\u001b[1;33m\u001b[0m\u001b[0m\n\u001b[0;32m      5\u001b[0m     \u001b[1;32mfor\u001b[0m \u001b[0mkc\u001b[0m\u001b[1;33m,\u001b[0m\u001b[0mk\u001b[0m \u001b[1;32min\u001b[0m \u001b[0menumerate\u001b[0m\u001b[1;33m(\u001b[0m\u001b[0msc\u001b[0m\u001b[1;33m)\u001b[0m\u001b[1;33m:\u001b[0m\u001b[1;33m\u001b[0m\u001b[0m\n\u001b[1;32m----> 6\u001b[1;33m         \u001b[0mdp\u001b[0m \u001b[1;33m*=\u001b[0m \u001b[0mr\u001b[0m\u001b[1;33m[\u001b[0m\u001b[0mkc\u001b[0m\u001b[1;33m,\u001b[0m\u001b[0mint\u001b[0m\u001b[1;33m(\u001b[0m\u001b[0mk\u001b[0m\u001b[1;33m==\u001b[0m\u001b[1;36m1\u001b[0m\u001b[1;33m)\u001b[0m\u001b[1;33m,\u001b[0m\u001b[1;33m:\u001b[0m\u001b[1;33m]\u001b[0m\u001b[1;33m\u001b[0m\u001b[0m\n\u001b[0m\u001b[0;32m      7\u001b[0m     \u001b[0mdp\u001b[0m \u001b[1;33m*=\u001b[0m \u001b[0mPofSi\u001b[0m\u001b[1;33m\u001b[0m\u001b[0m\n\u001b[0;32m      8\u001b[0m     \u001b[0mPSc\u001b[0m\u001b[1;33m[\u001b[0m\u001b[0mj\u001b[0m\u001b[1;33m]\u001b[0m \u001b[1;33m+=\u001b[0m \u001b[0mdp\u001b[0m\u001b[1;33m.\u001b[0m\u001b[0msum\u001b[0m\u001b[1;33m(\u001b[0m\u001b[1;33m)\u001b[0m\u001b[1;33m\u001b[0m\u001b[0m\n",
      "\u001b[1;31mIndexError\u001b[0m: invalid index to scalar variable."
     ]
    }
   ],
   "source": [
    "# Check that probability is properly normalized.\n",
    "PSc = zeros((2**Nc))\n",
    "for j,sc in enumerate(xbin_states(Nc,sym=True)):\n",
    "    dp = ones((4))\n",
    "    for kc,k in enumerate(sc):\n",
    "        dp *= r[kc,int(k==1),:]\n",
    "    dp *= PofSi\n",
    "    PSc[j] += dp.sum()"
   ]
  },
  {
   "cell_type": "code",
   "execution_count": 100,
   "metadata": {
    "collapsed": false
   },
   "outputs": [
    {
     "name": "stdout",
     "output_type": "stream",
     "text": [
      "[[  5.1784e-01   7.4321e-01   7.8790e-16   4.8731e-01   5.1797e-01   2.9750e-01]\n",
      " [  4.8216e-01   2.5679e-01   1.0000e+00   5.1269e-01   4.8203e-01   7.0250e-01]]\n",
      "[[  5.2008e-01   6.6478e-01   2.9995e-14   4.8764e-01   5.1941e-01   3.7782e-01]\n",
      " [  4.7992e-01   3.3522e-01   1.0000e+00   5.1236e-01   4.8059e-01   6.2218e-01]]\n",
      "[[  5.4428e-08   4.1079e-01   5.0511e-12   5.9057e-10   3.7373e-11   6.5770e-01]\n",
      " [  1.0000e+00   5.8921e-01   1.0000e+00   1.0000e+00   1.0000e+00   3.4230e-01]]\n",
      "[[  5.1945e-01   4.0872e-01   7.6003e-15   4.8755e-01   5.1900e-01   6.3335e-01]\n",
      " [  4.8055e-01   5.9128e-01   1.0000e+00   5.1245e-01   4.8100e-01   3.6665e-01]]\n",
      "1 loops, best of 3: 2.17 s per loop\n",
      "Optimization terminated successfully.\n",
      "1.99300076154 0.86591542267\n"
     ]
    }
   ],
   "source": [
    "# Run solver and print success message.\n",
    "%timeit print bottleSolver.solve(method='powell')\n",
    "print bottleSolver.soln['message']\n",
    "\n",
    "# Show individual bottle and accuracy terms from the cost function we are minimizing.\n",
    "# The accuracy should be as close as possible to the entropy of the final output, or 2 bits.\n",
    "print bottleSolver.bottleneck, bottleSolver.accuracy"
   ]
  },
  {
   "cell_type": "code",
   "execution_count": 579,
   "metadata": {
    "collapsed": false
   },
   "outputs": [
    {
     "data": {
      "text/plain": [
       "(1.9994228835056198, 0.9997114417528099)"
      ]
     },
     "execution_count": 579,
     "metadata": {},
     "output_type": "execute_result"
    }
   ],
   "source": [
    "# Now, taking beta to the limit of infinity...this should improve accuracy.\n",
    "bottleSolver.beta = 100\n",
    "bottleSolver.setup(PofSi,uniqueSi)\n",
    "\n",
    "bottleSolver.L(bottleSolver.clusterAssignP.ravel(),True)"
   ]
  },
  {
   "cell_type": "markdown",
   "metadata": {},
   "source": [
    "Sample states with Ising model. This will be good to try with various couplings Jij."
   ]
  },
  {
   "cell_type": "code",
   "execution_count": 581,
   "metadata": {
    "collapsed": true
   },
   "outputs": [],
   "source": [
    "import tosolve11.tosolve3 as tosolve"
   ]
  },
  {
   "cell_type": "code",
   "execution_count": 582,
   "metadata": {
    "collapsed": false
   },
   "outputs": [],
   "source": [
    "N = 3  # number of spins\n",
    "Nc = 2  # number of clusters\n",
    "K = 100  # data points\n",
    "\n",
    "J = random.normal(size=N*(N-1)//2)\n",
    "h = random.normal(size=N)\n",
    "\n",
    "# Correlated votes.\n",
    "v = bin_states(N,sym=True)[random.choice(range(2**N),size=(K,),\n",
    "                                         p=tosolve.get_probs(concatenate((h,J))))]"
   ]
  },
  {
   "cell_type": "code",
   "execution_count": 584,
   "metadata": {
    "collapsed": false
   },
   "outputs": [
    {
     "data": {
      "text/plain": [
       "array([ 1.2497,  0.7979,  1.3935])"
      ]
     },
     "execution_count": 584,
     "metadata": {},
     "output_type": "execute_result"
    }
   ],
   "source": [
    "J"
   ]
  },
  {
   "cell_type": "code",
   "execution_count": 585,
   "metadata": {
    "collapsed": false,
    "scrolled": false
   },
   "outputs": [
    {
     "name": "stdout",
     "output_type": "stream",
     "text": [
      "[[ 0.5616  0.3855  0.5409]\n",
      " [ 0.4384  0.6145  0.4591]]\n",
      "Optimization terminated successfully.\n",
      "0.999711441753\n",
      "1.99942288351 0.999711441753\n"
     ]
    }
   ],
   "source": [
    "# Run solver and print success message.\n",
    "print bottleSolver.solve(method='powell')\n",
    "print bottleSolver.soln['message']\n",
    "print bottleSolver.soln['fun']\n",
    "\n",
    "# Show individual bottle and accuracy terms from the cost function we are minimizing.\n",
    "# The accuracy should be as close as possible to the entropy of the final output, or 2 bits.\n",
    "print bottleSolver.bottleneck, bottleSolver.accuracy"
   ]
  },
  {
   "cell_type": "code",
   "execution_count": 586,
   "metadata": {
    "collapsed": false
   },
   "outputs": [
    {
     "data": {
      "text/plain": [
       "<matplotlib.colorbar.Colorbar at 0x7f8d7ec162d0>"
      ]
     },
     "execution_count": 586,
     "metadata": {},
     "output_type": "execute_result"
    },
    {
     "data": {
      "image/png": "[encoded data removed]",
      "text/plain": [
       "<matplotlib.figure.Figure at 0x7f8d7ec16c50>"
      ]
     },
     "metadata": {},
     "output_type": "display_data"
    }
   ],
   "source": [
    "plt.matshow( bottleSolver.clusterAssignP,cmap=plt.cm.Greys,vmin=0,vmax=1 )\n",
    "plt.colorbar()"
   ]
  },
  {
   "cell_type": "code",
   "execution_count": null,
   "metadata": {
    "collapsed": true
   },
   "outputs": [],
   "source": []
  }
 ],
 "metadata": {
  "kernelspec": {
   "display_name": "Python 2",
   "language": "python",
   "name": "python2"
  },
  "language_info": {
   "codemirror_mode": {
    "name": "ipython",
    "version": 2
   },
   "file_extension": ".py",
   "mimetype": "text/x-python",
   "name": "python",
   "nbconvert_exporter": "python",
   "pygments_lexer": "ipython2",
   "version": "2.7.11"
  }
 },
 "nbformat": 4,
 "nbformat_minor": 0
}

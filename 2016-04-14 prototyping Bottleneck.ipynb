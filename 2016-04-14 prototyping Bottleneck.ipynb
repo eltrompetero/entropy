{
 "cells": [
  {
   "cell_type": "code",
   "execution_count": 1,
   "metadata": {
    "collapsed": false
   },
   "outputs": [
    {
     "name": "stdout",
     "output_type": "stream",
     "text": [
      "Populating the interactive namespace from numpy and matplotlib\n"
     ]
    }
   ],
   "source": [
    "%pylab inline"
   ]
  },
  {
   "cell_type": "code",
   "execution_count": 2,
   "metadata": {
    "collapsed": false
   },
   "outputs": [],
   "source": [
    "from entropy import *\n",
    "from Bottleneck import Bottleneck"
   ]
  },
  {
   "cell_type": "code",
   "execution_count": 3,
   "metadata": {
    "collapsed": true
   },
   "outputs": [],
   "source": [
    "N = 3  # number of spins\n",
    "Nc = 2  # number of clusters\n",
    "K = 100  # data points"
   ]
  },
  {
   "cell_type": "markdown",
   "metadata": {},
   "source": [
    "Take votes to be completely random except that 2 and 3 vote exactly the same.\n",
    "\n",
    "Take final vote to be the sign of the majority vote."
   ]
  },
  {
   "cell_type": "code",
   "execution_count": 4,
   "metadata": {
    "collapsed": false
   },
   "outputs": [],
   "source": [
    "# Random votes.\n",
    "v = random.choice([-1.,1.],size=(K,N))\n",
    "# majVote = logical_xor( sign(v[:,:2].sum(1))==-1, v[:,-1]==-1 )*2-1\n",
    "v[:,-1] = v[:,1]  # make voter 3 the duplicate of voter 2\n",
    "\n",
    "majVote = sign( v.sum(1) )"
   ]
  },
  {
   "cell_type": "code",
   "execution_count": 8,
   "metadata": {
    "collapsed": false
   },
   "outputs": [],
   "source": [
    "PofSi = bincount(unique_rows(v,return_inverse=True))\n",
    "PofSi = PofSi/PofSi.sum()\n",
    "uniqueSi = v[unique_rows(v)]\n",
    "uniqueSi[:,-1] = uniqueSi[:,1]\n",
    "totalVote = sign(uniqueSi.sum(1))\n",
    "\n",
    "clusterAssignProbs = random.rand(Nc,N)\n",
    "clusterAssignProbs /= clusterAssignProbs.sum(0)[None,:]"
   ]
  },
  {
   "cell_type": "code",
   "execution_count": 11,
   "metadata": {
    "collapsed": false
   },
   "outputs": [],
   "source": [
    "bottleSolver = Bottleneck(N,Nc)\n",
    "bottleSolver.setup(PofSi,uniqueSi)"
   ]
  },
  {
   "cell_type": "code",
   "execution_count": 12,
   "metadata": {
    "collapsed": false
   },
   "outputs": [
    {
     "name": "stdout",
     "output_type": "stream",
     "text": [
      "[[  9.9811e-01   5.7148e-09   9.2164e-11]\n",
      " [  1.8857e-03   1.0000e+00   1.0000e+00]]\n"
     ]
    },
    {
     "name": "stderr",
     "output_type": "stream",
     "text": [
      "/Users/eddie/anaconda/lib/python2.7/site-packages/scipy/optimize/optimize.py:1787: RuntimeWarning: invalid value encountered in double_scalars\n",
      "  tmp2 = (x - v) * (fx - fw)\n"
     ]
    },
    {
     "data": {
      "text/plain": [
       "'Optimization terminated successfully.'"
      ]
     },
     "execution_count": 12,
     "metadata": {},
     "output_type": "execute_result"
    }
   ],
   "source": [
    "print bottleSolver.solve('powell')\n",
    "bottleSolver.soln['message']"
   ]
  },
  {
   "cell_type": "code",
   "execution_count": 13,
   "metadata": {
    "collapsed": false
   },
   "outputs": [
    {
     "data": {
      "text/plain": [
       "(1.9997114417551893, 0.99971137932177034)"
      ]
     },
     "execution_count": 13,
     "metadata": {},
     "output_type": "execute_result"
    }
   ],
   "source": [
    "bottleSolver.bottleneck, bottleSolver.accuracy"
   ]
  },
  {
   "cell_type": "code",
   "execution_count": 22,
   "metadata": {
    "collapsed": false
   },
   "outputs": [],
   "source": [
    "# Now, taking beta to the limit of infinity...\n",
    "bottleSolver.beta = 100\n",
    "bottleSolver.setup(PofSi,uniqueSi,Sc)"
   ]
  },
  {
   "cell_type": "code",
   "execution_count": 23,
   "metadata": {
    "collapsed": false
   },
   "outputs": [
    {
     "data": {
      "text/plain": [
       "(1.9907568776404516, 0.99537843882022581)"
      ]
     },
     "execution_count": 23,
     "metadata": {},
     "output_type": "execute_result"
    }
   ],
   "source": [
    "bottleSolver.L(bottleSolver.clusterAssignP.ravel(),True)"
   ]
  },
  {
   "cell_type": "markdown",
   "metadata": {},
   "source": [
    "Sample states with Ising model."
   ]
  },
  {
   "cell_type": "code",
   "execution_count": 3,
   "metadata": {
    "collapsed": true
   },
   "outputs": [],
   "source": [
    "N = 3  # number of spins\n",
    "Nc = 2  # number of clusters\n",
    "K = 100  # data points\n",
    "\n",
    "J = random.normal(size=N*(N-1)//2)\n",
    "h = random.normal(size=N)\n",
    "\n",
    "# Correlated votes.\n",
    "v = bin_states(N,sym=True)[random.choice(range(2**N),size=(K,),\n",
    "                                         p=tosolve.get_probs(concatenate((h,J))))]\n"
   ]
  },
  {
   "cell_type": "code",
   "execution_count": null,
   "metadata": {
    "collapsed": true
   },
   "outputs": [],
   "source": []
  }
 ],
 "metadata": {
  "kernelspec": {
   "display_name": "Python 2",
   "language": "python",
   "name": "python2"
  },
  "language_info": {
   "codemirror_mode": {
    "name": "ipython",
    "version": 2
   },
   "file_extension": ".py",
   "mimetype": "text/x-python",
   "name": "python",
   "nbconvert_exporter": "python",
   "pygments_lexer": "ipython2",
   "version": "2.7.11"
  }
 },
 "nbformat": 4,
 "nbformat_minor": 0
}
